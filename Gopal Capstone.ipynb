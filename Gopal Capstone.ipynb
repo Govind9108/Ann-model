{
 "cells": [
  {
   "cell_type": "code",
   "execution_count": 3,
   "id": "b1a25f58",
   "metadata": {},
   "outputs": [],
   "source": [
    "import pandas as pd\n",
    "import numpy as np\n",
    "import matplotlib.pyplot as plt\n",
    "import seaborn as sns\n",
    "plt.style.use('fivethirtyeight')\n",
    "\n",
    "import warnings\n",
    "warnings.filterwarnings('ignore')"
   ]
  },
  {
   "cell_type": "markdown",
   "id": "848696b5",
   "metadata": {},
   "source": [
    "### 5. Define a Python function to find the minimum and maximum values from a list. "
   ]
  },
  {
   "cell_type": "code",
   "execution_count": 4,
   "id": "0f05203d",
   "metadata": {},
   "outputs": [
    {
     "name": "stdout",
     "output_type": "stream",
     "text": [
      "Minimum =  2 Maximum = 45\n"
     ]
    }
   ],
   "source": [
    "def min_max(lst):\n",
    "    maxx = max(lst)\n",
    "    minn = min(lst)\n",
    "    print(f\"Minimum =  {minn} Maximum = {maxx}\")\n",
    "\n",
    "min_max([45,2,8,9,2])"
   ]
  },
  {
   "cell_type": "markdown",
   "id": "6c46eef6",
   "metadata": {},
   "source": [
    "### 6. Create a 3x3 NumPy array of ones and find out the total memory used for the array"
   ]
  },
  {
   "cell_type": "code",
   "execution_count": 5,
   "id": "c6aa3993",
   "metadata": {},
   "outputs": [
    {
     "name": "stdout",
     "output_type": "stream",
     "text": [
      "[[1. 1. 1.]\n",
      " [1. 1. 1.]\n",
      " [1. 1. 1.]]\n",
      "itemsize: 8 bytes\n"
     ]
    }
   ],
   "source": [
    "arr = np.ones((3, 3))\n",
    "print(arr)\n",
    "print(\"itemsize:\",arr.itemsize, \"bytes\")"
   ]
  },
  {
   "cell_type": "markdown",
   "id": "563d6b0f",
   "metadata": {},
   "source": [
    "### 7. Load the ODI_data.csv file using Pandas and print first 10 rows of the data. Find out the shape of the data. "
   ]
  },
  {
   "cell_type": "code",
   "execution_count": 41,
   "id": "44b031d5",
   "metadata": {},
   "outputs": [
    {
     "data": {
      "text/html": [
       "<div>\n",
       "<style scoped>\n",
       "    .dataframe tbody tr th:only-of-type {\n",
       "        vertical-align: middle;\n",
       "    }\n",
       "\n",
       "    .dataframe tbody tr th {\n",
       "        vertical-align: top;\n",
       "    }\n",
       "\n",
       "    .dataframe thead th {\n",
       "        text-align: right;\n",
       "    }\n",
       "</style>\n",
       "<table border=\"1\" class=\"dataframe\">\n",
       "  <thead>\n",
       "    <tr style=\"text-align: right;\">\n",
       "      <th></th>\n",
       "      <th>Unnamed: 0</th>\n",
       "      <th>Player</th>\n",
       "      <th>Span</th>\n",
       "      <th>Mat</th>\n",
       "      <th>Inns</th>\n",
       "      <th>NO</th>\n",
       "      <th>Runs</th>\n",
       "      <th>HS</th>\n",
       "      <th>Ave</th>\n",
       "      <th>BF</th>\n",
       "      <th>SR</th>\n",
       "      <th>100</th>\n",
       "      <th>50</th>\n",
       "      <th>0</th>\n",
       "      <th>Unnamed: 13</th>\n",
       "    </tr>\n",
       "  </thead>\n",
       "  <tbody>\n",
       "    <tr>\n",
       "      <th>0</th>\n",
       "      <td>0</td>\n",
       "      <td>SR Tendulkar (INDIA)</td>\n",
       "      <td>1989-2012</td>\n",
       "      <td>463</td>\n",
       "      <td>452</td>\n",
       "      <td>41</td>\n",
       "      <td>18426</td>\n",
       "      <td>200*</td>\n",
       "      <td>44.83</td>\n",
       "      <td>21367</td>\n",
       "      <td>86.23</td>\n",
       "      <td>49</td>\n",
       "      <td>96</td>\n",
       "      <td>20</td>\n",
       "      <td>NaN</td>\n",
       "    </tr>\n",
       "    <tr>\n",
       "      <th>1</th>\n",
       "      <td>1</td>\n",
       "      <td>KC Sangakkara (Asia/ICC/SL)</td>\n",
       "      <td>2000-2015</td>\n",
       "      <td>404</td>\n",
       "      <td>380</td>\n",
       "      <td>41</td>\n",
       "      <td>14234</td>\n",
       "      <td>169</td>\n",
       "      <td>41.98</td>\n",
       "      <td>18048</td>\n",
       "      <td>78.86</td>\n",
       "      <td>25</td>\n",
       "      <td>93</td>\n",
       "      <td>15</td>\n",
       "      <td>NaN</td>\n",
       "    </tr>\n",
       "    <tr>\n",
       "      <th>2</th>\n",
       "      <td>2</td>\n",
       "      <td>RT Ponting (AUS/ICC)</td>\n",
       "      <td>1995-2012</td>\n",
       "      <td>375</td>\n",
       "      <td>365</td>\n",
       "      <td>39</td>\n",
       "      <td>13704</td>\n",
       "      <td>164</td>\n",
       "      <td>42.03</td>\n",
       "      <td>17046</td>\n",
       "      <td>80.39</td>\n",
       "      <td>30</td>\n",
       "      <td>82</td>\n",
       "      <td>20</td>\n",
       "      <td>NaN</td>\n",
       "    </tr>\n",
       "    <tr>\n",
       "      <th>3</th>\n",
       "      <td>3</td>\n",
       "      <td>ST Jayasuriya (Asia/SL)</td>\n",
       "      <td>1989-2011</td>\n",
       "      <td>445</td>\n",
       "      <td>433</td>\n",
       "      <td>18</td>\n",
       "      <td>13430</td>\n",
       "      <td>189</td>\n",
       "      <td>32.36</td>\n",
       "      <td>14725</td>\n",
       "      <td>91.2</td>\n",
       "      <td>28</td>\n",
       "      <td>68</td>\n",
       "      <td>34</td>\n",
       "      <td>NaN</td>\n",
       "    </tr>\n",
       "    <tr>\n",
       "      <th>4</th>\n",
       "      <td>4</td>\n",
       "      <td>DPMD Jayawardene (Asia/SL)</td>\n",
       "      <td>1998-2015</td>\n",
       "      <td>448</td>\n",
       "      <td>418</td>\n",
       "      <td>39</td>\n",
       "      <td>12650</td>\n",
       "      <td>144</td>\n",
       "      <td>33.37</td>\n",
       "      <td>16020</td>\n",
       "      <td>78.96</td>\n",
       "      <td>19</td>\n",
       "      <td>77</td>\n",
       "      <td>28</td>\n",
       "      <td>NaN</td>\n",
       "    </tr>\n",
       "    <tr>\n",
       "      <th>5</th>\n",
       "      <td>5</td>\n",
       "      <td>Inzamam-ul-Haq (Asia/PAK)</td>\n",
       "      <td>1991-2007</td>\n",
       "      <td>378</td>\n",
       "      <td>350</td>\n",
       "      <td>53</td>\n",
       "      <td>11739</td>\n",
       "      <td>137*</td>\n",
       "      <td>39.52</td>\n",
       "      <td>15812</td>\n",
       "      <td>74.24</td>\n",
       "      <td>10</td>\n",
       "      <td>83</td>\n",
       "      <td>20</td>\n",
       "      <td>NaN</td>\n",
       "    </tr>\n",
       "    <tr>\n",
       "      <th>6</th>\n",
       "      <td>6</td>\n",
       "      <td>V Kohli (INDIA)</td>\n",
       "      <td>2008-2019</td>\n",
       "      <td>242</td>\n",
       "      <td>233</td>\n",
       "      <td>39</td>\n",
       "      <td>11609</td>\n",
       "      <td>183</td>\n",
       "      <td>59.84</td>\n",
       "      <td>12445</td>\n",
       "      <td>93.28</td>\n",
       "      <td>43</td>\n",
       "      <td>55</td>\n",
       "      <td>13</td>\n",
       "      <td>NaN</td>\n",
       "    </tr>\n",
       "    <tr>\n",
       "      <th>7</th>\n",
       "      <td>7</td>\n",
       "      <td>JH Kallis (Afr/ICC/SA)</td>\n",
       "      <td>1996-2014</td>\n",
       "      <td>328</td>\n",
       "      <td>314</td>\n",
       "      <td>53</td>\n",
       "      <td>11579</td>\n",
       "      <td>139</td>\n",
       "      <td>44.36</td>\n",
       "      <td>15885</td>\n",
       "      <td>72.89</td>\n",
       "      <td>17</td>\n",
       "      <td>86</td>\n",
       "      <td>17</td>\n",
       "      <td>NaN</td>\n",
       "    </tr>\n",
       "    <tr>\n",
       "      <th>8</th>\n",
       "      <td>8</td>\n",
       "      <td>SC Ganguly (Asia/INDIA)</td>\n",
       "      <td>1992-2007</td>\n",
       "      <td>311</td>\n",
       "      <td>300</td>\n",
       "      <td>23</td>\n",
       "      <td>11363</td>\n",
       "      <td>183</td>\n",
       "      <td>41.02</td>\n",
       "      <td>15416</td>\n",
       "      <td>73.7</td>\n",
       "      <td>22</td>\n",
       "      <td>72</td>\n",
       "      <td>16</td>\n",
       "      <td>NaN</td>\n",
       "    </tr>\n",
       "    <tr>\n",
       "      <th>9</th>\n",
       "      <td>9</td>\n",
       "      <td>R Dravid (Asia/ICC/INDIA)</td>\n",
       "      <td>1996-2011</td>\n",
       "      <td>344</td>\n",
       "      <td>318</td>\n",
       "      <td>40</td>\n",
       "      <td>10889</td>\n",
       "      <td>153</td>\n",
       "      <td>39.16</td>\n",
       "      <td>15284</td>\n",
       "      <td>71.24</td>\n",
       "      <td>12</td>\n",
       "      <td>83</td>\n",
       "      <td>13</td>\n",
       "      <td>NaN</td>\n",
       "    </tr>\n",
       "  </tbody>\n",
       "</table>\n",
       "</div>"
      ],
      "text/plain": [
       "   Unnamed: 0                       Player       Span  Mat Inns  NO   Runs  \\\n",
       "0           0         SR Tendulkar (INDIA)  1989-2012  463  452  41  18426   \n",
       "1           1  KC Sangakkara (Asia/ICC/SL)  2000-2015  404  380  41  14234   \n",
       "2           2         RT Ponting (AUS/ICC)  1995-2012  375  365  39  13704   \n",
       "3           3      ST Jayasuriya (Asia/SL)  1989-2011  445  433  18  13430   \n",
       "4           4   DPMD Jayawardene (Asia/SL)  1998-2015  448  418  39  12650   \n",
       "5           5    Inzamam-ul-Haq (Asia/PAK)  1991-2007  378  350  53  11739   \n",
       "6           6              V Kohli (INDIA)  2008-2019  242  233  39  11609   \n",
       "7           7       JH Kallis (Afr/ICC/SA)  1996-2014  328  314  53  11579   \n",
       "8           8      SC Ganguly (Asia/INDIA)  1992-2007  311  300  23  11363   \n",
       "9           9    R Dravid (Asia/ICC/INDIA)  1996-2011  344  318  40  10889   \n",
       "\n",
       "     HS    Ave     BF     SR 100  50   0  Unnamed: 13  \n",
       "0  200*  44.83  21367  86.23  49  96  20          NaN  \n",
       "1   169  41.98  18048  78.86  25  93  15          NaN  \n",
       "2   164  42.03  17046  80.39  30  82  20          NaN  \n",
       "3   189  32.36  14725   91.2  28  68  34          NaN  \n",
       "4   144  33.37  16020  78.96  19  77  28          NaN  \n",
       "5  137*  39.52  15812  74.24  10  83  20          NaN  \n",
       "6   183  59.84  12445  93.28  43  55  13          NaN  \n",
       "7   139  44.36  15885  72.89  17  86  17          NaN  \n",
       "8   183  41.02  15416   73.7  22  72  16          NaN  \n",
       "9   153  39.16  15284  71.24  12  83  13          NaN  "
      ]
     },
     "execution_count": 41,
     "metadata": {},
     "output_type": "execute_result"
    }
   ],
   "source": [
    "import pandas as pd\n",
    "df = pd.read_csv(\"ODI data.csv\")\n",
    "df.head(10)\n"
   ]
  },
  {
   "cell_type": "code",
   "execution_count": 42,
   "id": "1971542b",
   "metadata": {},
   "outputs": [
    {
     "name": "stdout",
     "output_type": "stream",
     "text": [
      "(2500, 15)\n"
     ]
    }
   ],
   "source": [
    "print(df.shape)"
   ]
  },
  {
   "cell_type": "code",
   "execution_count": 43,
   "id": "cda9c6e4",
   "metadata": {},
   "outputs": [
    {
     "name": "stdout",
     "output_type": "stream",
     "text": [
      "<class 'pandas.core.frame.DataFrame'>\n",
      "RangeIndex: 2500 entries, 0 to 2499\n",
      "Data columns (total 15 columns):\n",
      " #   Column       Non-Null Count  Dtype  \n",
      "---  ------       --------------  -----  \n",
      " 0   Unnamed: 0   2500 non-null   int64  \n",
      " 1   Player       2500 non-null   object \n",
      " 2   Span         2500 non-null   object \n",
      " 3   Mat          2500 non-null   int64  \n",
      " 4   Inns         2500 non-null   object \n",
      " 5   NO           2500 non-null   object \n",
      " 6   Runs         2500 non-null   object \n",
      " 7   HS           2500 non-null   object \n",
      " 8   Ave          2500 non-null   object \n",
      " 9   BF           2500 non-null   object \n",
      " 10  SR           2500 non-null   object \n",
      " 11  100          2500 non-null   object \n",
      " 12  50           2500 non-null   object \n",
      " 13  0            2500 non-null   object \n",
      " 14  Unnamed: 13  0 non-null      float64\n",
      "dtypes: float64(1), int64(2), object(12)\n",
      "memory usage: 293.1+ KB\n"
     ]
    }
   ],
   "source": [
    "df.info()"
   ]
  },
  {
   "cell_type": "markdown",
   "id": "ebdbdff6",
   "metadata": {},
   "source": [
    "### 8. Visualize boxplot and scatterplot for the above mentioned data. "
   ]
  },
  {
   "cell_type": "code",
   "execution_count": 46,
   "id": "1a47e698",
   "metadata": {},
   "outputs": [],
   "source": [
    "df.drop('Unnamed: 13',axis=1,inplace=True)\n",
    "df.drop('Unnamed: 0',axis=1,inplace=True)\n"
   ]
  },
  {
   "cell_type": "code",
   "execution_count": 47,
   "id": "f5789b96",
   "metadata": {},
   "outputs": [],
   "source": [
    "df['Runs']=df['Runs'].str.replace('-','0')\n",
    "df['Ave']=df['Ave'].str.replace('-','0')\n",
    "df['HS']=df['HS'].str.replace('*','')\n",
    "df['SR']=df['SR'].str.replace('-','0')\n",
    "df['Inns']=df['Inns'].str.replace('-','0')\n",
    "df['NO']=df['NO'].str.replace('-','0')\n",
    "df['HS']=df['HS'].str.replace('-','0')\n",
    "df['BF']=df['BF'].str.replace('-','0')\n",
    "df['100']=df['100'].str.replace('-','0')\n",
    "df['50']=df['50'].str.replace('-','0')\n",
    "df['0']=df['0'].str.replace('-','0')\n"
   ]
  },
  {
   "cell_type": "code",
   "execution_count": 50,
   "id": "c236ee13",
   "metadata": {},
   "outputs": [
    {
     "name": "stdout",
     "output_type": "stream",
     "text": [
      "<class 'pandas.core.frame.DataFrame'>\n",
      "RangeIndex: 2500 entries, 0 to 2499\n",
      "Data columns (total 13 columns):\n",
      " #   Column  Non-Null Count  Dtype  \n",
      "---  ------  --------------  -----  \n",
      " 0   Player  2500 non-null   object \n",
      " 1   Span    2500 non-null   object \n",
      " 2   Mat     2500 non-null   int64  \n",
      " 3   Inns    2500 non-null   object \n",
      " 4   NO      2500 non-null   object \n",
      " 5   Runs    2500 non-null   float64\n",
      " 6   HS      2500 non-null   float64\n",
      " 7   Ave     2500 non-null   float64\n",
      " 8   BF      2500 non-null   object \n",
      " 9   SR      2500 non-null   float64\n",
      " 10  100     2500 non-null   object \n",
      " 11  50      2500 non-null   object \n",
      " 12  0       2500 non-null   object \n",
      "dtypes: float64(4), int64(1), object(8)\n",
      "memory usage: 254.0+ KB\n"
     ]
    }
   ],
   "source": [
    "df['Runs']=df['Runs'].astype('float')\n",
    "df['Ave']=df['Ave'].astype('float')\n",
    "df['HS']=df['HS'].astype('float')\n",
    "df['SR']=df['SR'].astype('float')"
   ]
  },
  {
   "cell_type": "code",
   "execution_count": 60,
   "id": "093a3caa",
   "metadata": {},
   "outputs": [
    {
     "data": {
      "image/png": "[encoded data removed]",
      "text/plain": [
       "<Figure size 1224x360 with 1 Axes>"
      ]
     },
     "metadata": {},
     "output_type": "display_data"
    }
   ],
   "source": [
    "plt.rcParams['figure.figsize']=(17,5)\n",
    "sns.boxplot(data=df[\"Runs\"], orient= \"horizontal\" )\n",
    "plt.show()"
   ]
  },
  {
   "cell_type": "code",
   "execution_count": 61,
   "id": "1e7e11d9",
   "metadata": {},
   "outputs": [
    {
     "data": {
      "image/png": "[encoded data removed]",
      "text/plain": [
       "<Figure size 1224x360 with 1 Axes>"
      ]
     },
     "metadata": {},
     "output_type": "display_data"
    }
   ],
   "source": [
    "plt.rcParams['figure.figsize']=(17,5)\n",
    "sns.boxplot(data=df, orient= \"horizontal\" )\n",
    "plt.show()"
   ]
  },
  {
   "cell_type": "code",
   "execution_count": 62,
   "id": "558060e4",
   "metadata": {},
   "outputs": [
    {
     "data": {
      "text/plain": [
       "<AxesSubplot:xlabel='Inns', ylabel='Runs'>"
      ]
     },
     "execution_count": 62,
     "metadata": {},
     "output_type": "execute_result"
    },
    {
     "data": {
      "image/png": "[encoded data removed]",
      "text/plain": [
       "<Figure size 1080x576 with 1 Axes>"
      ]
     },
     "metadata": {},
     "output_type": "display_data"
    }
   ],
   "source": [
    "plt.rcParams['figure.figsize']=(17,5)\n",
    "plt.figure(figsize=(15,8))\n",
    "sns.scatterplot(data=df,x='Inns',y='Runs')"
   ]
  },
  {
   "cell_type": "code",
   "execution_count": null,
   "id": "1e172e84",
   "metadata": {},
   "outputs": [],
   "source": []
  },
  {
   "cell_type": "code",
   "execution_count": 23,
   "id": "cfd3a00d",
   "metadata": {},
   "outputs": [],
   "source": [
    "import pandas as pd\n",
    "import numpy as np\n",
    "import matplotlib.pyplot as plt\n",
    "import seaborn as sns\n",
    "from sklearn.impute import SimpleImputer\n"
   ]
  },
  {
   "cell_type": "code",
   "execution_count": 24,
   "id": "eb761f41",
   "metadata": {},
   "outputs": [],
   "source": [
    "data = pd.read_excel('Data_Train_Cars.xlsx')\n"
   ]
  },
  {
   "cell_type": "code",
   "execution_count": null,
   "id": "85e49026",
   "metadata": {},
   "outputs": [],
   "source": [
    "data.head()"
   ]
  },
  {
   "cell_type": "code",
   "execution_count": 78,
   "id": "2f5877c0",
   "metadata": {},
   "outputs": [],
   "source": [
    "median = data[\"Seats\"].median()\n",
    "data[\"Seats\"].fillna(median, inplace=True) "
   ]
  },
  {
   "cell_type": "code",
   "execution_count": 15,
   "id": "64d49570",
   "metadata": {},
   "outputs": [],
   "source": [
    "data['Mileage']=data['Mileage'].apply(lambda x : str(x).split(\" \")[0]).astype(np.float64)"
   ]
  },
  {
   "cell_type": "code",
   "execution_count": 22,
   "id": "4bda54e3",
   "metadata": {},
   "outputs": [
    {
     "ename": "KeyError",
     "evalue": "'Brand'",
     "output_type": "error",
     "traceback": [
      "\u001b[1;31m---------------------------------------------------------------------------\u001b[0m",
      "\u001b[1;31mKeyError\u001b[0m                                  Traceback (most recent call last)",
      "\u001b[1;32m~\\AppData\\Local\\Temp/ipykernel_12468/140005113.py\u001b[0m in \u001b[0;36m<module>\u001b[1;34m\u001b[0m\n\u001b[1;32m----> 1\u001b[1;33m \u001b[0mdata\u001b[0m\u001b[1;33m[\u001b[0m\u001b[1;34m'Mileage'\u001b[0m\u001b[1;33m]\u001b[0m\u001b[1;33m=\u001b[0m\u001b[0mdata\u001b[0m\u001b[1;33m.\u001b[0m\u001b[0mgroupby\u001b[0m\u001b[1;33m(\u001b[0m\u001b[1;33m[\u001b[0m\u001b[1;34m'Brand'\u001b[0m\u001b[1;33m]\u001b[0m\u001b[1;33m)\u001b[0m\u001b[1;33m.\u001b[0m\u001b[0mtransform\u001b[0m\u001b[1;33m(\u001b[0m\u001b[1;32mlambda\u001b[0m \u001b[0mx\u001b[0m\u001b[1;33m:\u001b[0m \u001b[0mx\u001b[0m\u001b[1;33m.\u001b[0m\u001b[0mfillna\u001b[0m\u001b[1;33m(\u001b[0m\u001b[0mx\u001b[0m\u001b[1;33m.\u001b[0m\u001b[0mmean\u001b[0m\u001b[1;33m(\u001b[0m\u001b[1;33m)\u001b[0m\u001b[1;33m)\u001b[0m\u001b[1;33m)\u001b[0m\u001b[1;33m[\u001b[0m\u001b[1;34m'Mileage'\u001b[0m\u001b[1;33m]\u001b[0m\u001b[1;33m\u001b[0m\u001b[1;33m\u001b[0m\u001b[0m\n\u001b[0m",
      "\u001b[1;32m~\\anaconda3\\lib\\site-packages\\pandas\\core\\frame.py\u001b[0m in \u001b[0;36mgroupby\u001b[1;34m(self, by, axis, level, as_index, sort, group_keys, squeeze, observed, dropna)\u001b[0m\n\u001b[0;32m   7629\u001b[0m         \u001b[1;31m# error: Argument \"squeeze\" to \"DataFrameGroupBy\" has incompatible type\u001b[0m\u001b[1;33m\u001b[0m\u001b[1;33m\u001b[0m\u001b[0m\n\u001b[0;32m   7630\u001b[0m         \u001b[1;31m# \"Union[bool, NoDefault]\"; expected \"bool\"\u001b[0m\u001b[1;33m\u001b[0m\u001b[1;33m\u001b[0m\u001b[0m\n\u001b[1;32m-> 7631\u001b[1;33m         return DataFrameGroupBy(\n\u001b[0m\u001b[0;32m   7632\u001b[0m             \u001b[0mobj\u001b[0m\u001b[1;33m=\u001b[0m\u001b[0mself\u001b[0m\u001b[1;33m,\u001b[0m\u001b[1;33m\u001b[0m\u001b[1;33m\u001b[0m\u001b[0m\n\u001b[0;32m   7633\u001b[0m             \u001b[0mkeys\u001b[0m\u001b[1;33m=\u001b[0m\u001b[0mby\u001b[0m\u001b[1;33m,\u001b[0m\u001b[1;33m\u001b[0m\u001b[1;33m\u001b[0m\u001b[0m\n",
      "\u001b[1;32m~\\anaconda3\\lib\\site-packages\\pandas\\core\\groupby\\groupby.py\u001b[0m in \u001b[0;36m__init__\u001b[1;34m(self, obj, keys, axis, level, grouper, exclusions, selection, as_index, sort, group_keys, squeeze, observed, mutated, dropna)\u001b[0m\n\u001b[0;32m    887\u001b[0m             \u001b[1;32mfrom\u001b[0m \u001b[0mpandas\u001b[0m\u001b[1;33m.\u001b[0m\u001b[0mcore\u001b[0m\u001b[1;33m.\u001b[0m\u001b[0mgroupby\u001b[0m\u001b[1;33m.\u001b[0m\u001b[0mgrouper\u001b[0m \u001b[1;32mimport\u001b[0m \u001b[0mget_grouper\u001b[0m\u001b[1;33m\u001b[0m\u001b[1;33m\u001b[0m\u001b[0m\n\u001b[0;32m    888\u001b[0m \u001b[1;33m\u001b[0m\u001b[0m\n\u001b[1;32m--> 889\u001b[1;33m             grouper, exclusions, obj = get_grouper(\n\u001b[0m\u001b[0;32m    890\u001b[0m                 \u001b[0mobj\u001b[0m\u001b[1;33m,\u001b[0m\u001b[1;33m\u001b[0m\u001b[1;33m\u001b[0m\u001b[0m\n\u001b[0;32m    891\u001b[0m                 \u001b[0mkeys\u001b[0m\u001b[1;33m,\u001b[0m\u001b[1;33m\u001b[0m\u001b[1;33m\u001b[0m\u001b[0m\n",
      "\u001b[1;32m~\\anaconda3\\lib\\site-packages\\pandas\\core\\groupby\\grouper.py\u001b[0m in \u001b[0;36mget_grouper\u001b[1;34m(obj, key, axis, level, sort, observed, mutated, validate, dropna)\u001b[0m\n\u001b[0;32m    860\u001b[0m                 \u001b[0min_axis\u001b[0m\u001b[1;33m,\u001b[0m \u001b[0mlevel\u001b[0m\u001b[1;33m,\u001b[0m \u001b[0mgpr\u001b[0m \u001b[1;33m=\u001b[0m \u001b[1;32mFalse\u001b[0m\u001b[1;33m,\u001b[0m \u001b[0mgpr\u001b[0m\u001b[1;33m,\u001b[0m \u001b[1;32mNone\u001b[0m\u001b[1;33m\u001b[0m\u001b[1;33m\u001b[0m\u001b[0m\n\u001b[0;32m    861\u001b[0m             \u001b[1;32melse\u001b[0m\u001b[1;33m:\u001b[0m\u001b[1;33m\u001b[0m\u001b[1;33m\u001b[0m\u001b[0m\n\u001b[1;32m--> 862\u001b[1;33m                 \u001b[1;32mraise\u001b[0m \u001b[0mKeyError\u001b[0m\u001b[1;33m(\u001b[0m\u001b[0mgpr\u001b[0m\u001b[1;33m)\u001b[0m\u001b[1;33m\u001b[0m\u001b[1;33m\u001b[0m\u001b[0m\n\u001b[0m\u001b[0;32m    863\u001b[0m         \u001b[1;32melif\u001b[0m \u001b[0misinstance\u001b[0m\u001b[1;33m(\u001b[0m\u001b[0mgpr\u001b[0m\u001b[1;33m,\u001b[0m \u001b[0mGrouper\u001b[0m\u001b[1;33m)\u001b[0m \u001b[1;32mand\u001b[0m \u001b[0mgpr\u001b[0m\u001b[1;33m.\u001b[0m\u001b[0mkey\u001b[0m \u001b[1;32mis\u001b[0m \u001b[1;32mnot\u001b[0m \u001b[1;32mNone\u001b[0m\u001b[1;33m:\u001b[0m\u001b[1;33m\u001b[0m\u001b[1;33m\u001b[0m\u001b[0m\n\u001b[0;32m    864\u001b[0m             \u001b[1;31m# Add key to exclusions\u001b[0m\u001b[1;33m\u001b[0m\u001b[1;33m\u001b[0m\u001b[0m\n",
      "\u001b[1;31mKeyError\u001b[0m: 'Brand'"
     ]
    }
   ],
   "source": [
    "data['Mileage']=data.groupby(['Brand']).transform(lambda x: x.fillna(x.median()))['Mileage']"
   ]
  },
  {
   "cell_type": "code",
   "execution_count": 3,
   "id": "f280b04e",
   "metadata": {},
   "outputs": [
    {
     "data": {
      "text/plain": [
       "Unnamed: 0        0\n",
       "Player            0\n",
       "Span              0\n",
       "Mat               0\n",
       "Inns              0\n",
       "NO                0\n",
       "Runs              0\n",
       "HS                0\n",
       "Ave               0\n",
       "BF                0\n",
       "SR                0\n",
       "100               0\n",
       "50                0\n",
       "0                 0\n",
       "Unnamed: 13    2500\n",
       "dtype: int64"
      ]
     },
     "execution_count": 3,
     "metadata": {},
     "output_type": "execute_result"
    }
   ],
   "source": [
    ".isnull().sum()"
   ]
  },
  {
   "cell_type": "code",
   "execution_count": null,
   "id": "2898846f",
   "metadata": {},
   "outputs": [],
   "source": [
    "data.shape"
   ]
  },
  {
   "cell_type": "code",
   "execution_count": 20,
   "id": "2e3d2ca6",
   "metadata": {},
   "outputs": [
    {
     "data": {
      "text/plain": [
       "array(['CNG', 'Diesel', 'Petrol', ..., 'Diesel', 'Petrol', 'Diesel'],\n",
       "      dtype=object)"
      ]
     },
     "execution_count": 20,
     "metadata": {},
     "output_type": "execute_result"
    }
   ],
   "source": [
    "data.iloc[:,4].values"
   ]
  },
  {
   "cell_type": "code",
   "execution_count": null,
   "id": "ee15ce97",
   "metadata": {},
   "outputs": [],
   "source": []
  }
 ],
 "metadata": {
  "kernelspec": {
   "display_name": "Python 3 (ipykernel)",
   "language": "python",
   "name": "python3"
  },
  "language_info": {
   "codemirror_mode": {
    "name": "ipython",
    "version": 3
   },
   "file_extension": ".py",
   "mimetype": "text/x-python",
   "name": "python",
   "nbconvert_exporter": "python",
   "pygments_lexer": "ipython3",
   "version": "3.9.7"
  }
 },
 "nbformat": 4,
 "nbformat_minor": 5
}
